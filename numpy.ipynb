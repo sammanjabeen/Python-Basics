{
 "cells": [
  {
   "cell_type": "code",
   "execution_count": 1,
   "id": "c2748608-17f6-4522-b06b-208656524f18",
   "metadata": {},
   "outputs": [],
   "source": [
    "import numpy as np"
   ]
  },
  {
   "cell_type": "markdown",
   "id": "06ae3d5a-741d-4d4a-a94d-7e74ce568dc0",
   "metadata": {},
   "source": [
    "0 dimension arry"
   ]
  },
  {
   "cell_type": "code",
   "execution_count": 2,
   "id": "d7fb7738-8f43-4646-87e9-fa672dfe2331",
   "metadata": {},
   "outputs": [
    {
     "name": "stdout",
     "output_type": "stream",
     "text": [
      "20\n",
      "<class 'numpy.ndarray'>\n",
      "0\n"
     ]
    }
   ],
   "source": [
    "arr = np.array(20)\n",
    "print(arr)\n",
    "print(type(arr))\n",
    "print(arr.ndim)"
   ]
  },
  {
   "cell_type": "markdown",
   "id": "29432da0-9ec8-451d-b1e6-07e68356007a",
   "metadata": {},
   "source": [
    "1 d array"
   ]
  },
  {
   "cell_type": "code",
   "execution_count": 3,
   "id": "24804b17-4016-4d47-b152-86396754ad57",
   "metadata": {},
   "outputs": [
    {
     "name": "stdout",
     "output_type": "stream",
     "text": [
      "1\n"
     ]
    }
   ],
   "source": [
    "arr = np.array([1,2,3,4,5,6,7])\n",
    "print(arr.ndim)"
   ]
  },
  {
   "cell_type": "markdown",
   "id": "37df8a5a-d16f-464c-a1eb-bff77a79b919",
   "metadata": {},
   "source": [
    "# 2 D array"
   ]
  },
  {
   "cell_type": "code",
   "execution_count": 5,
   "id": "f82bebd2-dafc-45b6-8750-8119e31c2aa9",
   "metadata": {},
   "outputs": [
    {
     "name": "stdout",
     "output_type": "stream",
     "text": [
      "[[1 2 3]\n",
      " [4 6 7]]\n",
      "2\n"
     ]
    }
   ],
   "source": [
    "arr = np.array([[1,2,3],[4,6,7]])\n",
    "print(arr)\n",
    "print(arr.ndim)"
   ]
  },
  {
   "cell_type": "code",
   "execution_count": null,
   "id": "91102092-9523-4d3f-9bfd-9b743caf99bc",
   "metadata": {},
   "outputs": [],
   "source": []
  },
  {
   "cell_type": "code",
   "execution_count": 6,
   "id": "5f98c61c-bb23-4940-9f50-e83d13f6b2ee",
   "metadata": {},
   "outputs": [
    {
     "name": "stdout",
     "output_type": "stream",
     "text": [
      "[[1.1 2.4 3. ]\n",
      " [4.6 6.  7. ]]\n",
      "2\n"
     ]
    }
   ],
   "source": [
    "arr = np.array([[1.1,2.4,3],[4.6,6,7]])\n",
    "print(arr)\n",
    "print(arr.ndim)"
   ]
  },
  {
   "cell_type": "markdown",
   "id": "a5abbfd9-1f80-4dd5-a7b0-179921670cf0",
   "metadata": {},
   "source": [
    "# 3 D array"
   ]
  },
  {
   "cell_type": "code",
   "execution_count": 8,
   "id": "79be9a89-59e2-433c-9e23-b916eb2871c7",
   "metadata": {},
   "outputs": [
    {
     "name": "stdout",
     "output_type": "stream",
     "text": [
      "[[[1 2 3]\n",
      "  [4 5 6]]\n",
      "\n",
      " [[1 2 3]\n",
      "  [4 5 6]]]\n",
      "3\n"
     ]
    }
   ],
   "source": [
    "arr = np.array([[[1,2,3],[4,5,6]],[[1,2,3],[4,5,6]]])\n",
    "print(arr)\n",
    "print(arr.ndim)\n",
    "# an array that has 2-D arrays(matrices) as its elements is called 3-D arrays"
   ]
  },
  {
   "cell_type": "markdown",
   "id": "d5b1c6d6-6584-4ca3-a514-49b8d5dfbf20",
   "metadata": {},
   "source": [
    "# creating an array of 5 dimensions and verify that it has 5 dimensions."
   ]
  },
  {
   "cell_type": "code",
   "execution_count": 2,
   "id": "9f8ad089-d39b-4147-83a8-0bc521daf649",
   "metadata": {},
   "outputs": [
    {
     "name": "stdout",
     "output_type": "stream",
     "text": [
      "[[[[[1 2 3 4 5]]]]]\n",
      "numbers of dimensions :  5\n"
     ]
    }
   ],
   "source": [
    "import numpy as np\n",
    "arr = np.array([1,2,3,4,5], ndmin = 5) # we can write like this too\n",
    "print(arr)\n",
    "print(\"numbers of dimensions : \", arr.ndim)"
   ]
  },
  {
   "cell_type": "markdown",
   "id": "b23dbbf1-cc14-4970-bbad-f2c4fd1ec47e",
   "metadata": {},
   "source": [
    "## indexing of n dimensions array\n"
   ]
  },
  {
   "cell_type": "code",
   "execution_count": 3,
   "id": "d5b374b7-89ad-4a6a-bc7b-0b4f36a8ab4d",
   "metadata": {},
   "outputs": [
    {
     "name": "stdout",
     "output_type": "stream",
     "text": [
      "first element of 1st row  10\n",
      "last element of 2nd row  100\n",
      "sum is  110\n"
     ]
    }
   ],
   "source": [
    "arr = np.array([[10,20,30,40,50],[60,70,80,90,100]])\n",
    "print(\"first element of 1st row \", arr[0,0])\n",
    "print(\"last element of 2nd row \", arr[1,4])\n",
    "print(\"sum is \", arr[0,0]+arr[1,4])"
   ]
  },
  {
   "cell_type": "markdown",
   "id": "fb06dafe-4355-44eb-a058-a10d69905e41",
   "metadata": {},
   "source": [
    "## Access 3-D Arrays"
   ]
  },
  {
   "cell_type": "code",
   "execution_count": 4,
   "id": "072e054c-7384-4a09-b20b-8cb877d51856",
   "metadata": {},
   "outputs": [
    {
     "name": "stdout",
     "output_type": "stream",
     "text": [
      "6\n"
     ]
    }
   ],
   "source": [
    "arr = np.array([[[1,2,3],[4,5,6]],[[7,8,9],[10,11,12]]])\n",
    "# access the 3rd element of the 2nd array of the first array\n",
    "print(arr[0,1,2])"
   ]
  },
  {
   "cell_type": "code",
   "execution_count": 5,
   "id": "92faef39-1779-4ce8-9061-f8681625bbd0",
   "metadata": {},
   "outputs": [
    {
     "name": "stdout",
     "output_type": "stream",
     "text": [
      "12\n"
     ]
    }
   ],
   "source": [
    "# access 12 from the above array\n",
    "print(arr[1,1,2])"
   ]
  },
  {
   "cell_type": "markdown",
   "id": "e48adbaa-d8b9-4b91-9642-3901ca2183db",
   "metadata": {},
   "source": [
    "### Slicing of Numpay arrays"
   ]
  },
  {
   "cell_type": "markdown",
   "id": "947e5640-b4d1-4fda-bf47-14edfd8ee55a",
   "metadata": {},
   "source": [
    "### Slicing of 1 D array "
   ]
  },
  {
   "cell_type": "code",
   "execution_count": 12,
   "id": "2e802f89-cb96-4e27-a597-516b2cb22877",
   "metadata": {},
   "outputs": [
    {
     "name": "stdout",
     "output_type": "stream",
     "text": [
      "[2 3 4]\n",
      "[ 1  4  7 10 13 16]\n"
     ]
    }
   ],
   "source": [
    "# print(2,3,4) from this array\n",
    "arr = np.array([1,2,3,4,5,6,7,8,9,10,11,12,13,14,15,16])\n",
    "print(arr[1:4])\n",
    "print(arr[::3]) # from start to end and take 2 steps"
   ]
  },
  {
   "cell_type": "markdown",
   "id": "98900c9c-a8d4-42af-b05c-61b6118cbe17",
   "metadata": {},
   "source": [
    "### Slicing from 2 D arrays"
   ]
  },
  {
   "cell_type": "code",
   "execution_count": 8,
   "id": "ebbb5704-4cd9-4f62-b5e7-33a539bb9175",
   "metadata": {},
   "outputs": [
    {
     "name": "stdout",
     "output_type": "stream",
     "text": [
      "[20 21 22]\n"
     ]
    }
   ],
   "source": [
    "# print(20,21,22) from this 2 D array\n",
    "arr = np.array([[10,11,12,13,14,15],[20,21,22,23,24,25]])\n",
    "print(arr[1,0:3])"
   ]
  },
  {
   "cell_type": "markdown",
   "id": "117077c0-0b70-4009-87b1-3ee6cfe2d728",
   "metadata": {},
   "source": [
    "### Slicing from 3D arrays"
   ]
  },
  {
   "cell_type": "code",
   "execution_count": 9,
   "id": "3dbff8b5-acfa-4a76-a4b1-e5d78e4fda0d",
   "metadata": {},
   "outputs": [
    {
     "name": "stdout",
     "output_type": "stream",
     "text": [
      "[4 5 6]\n"
     ]
    }
   ],
   "source": [
    "arr = np.array([[[1,2,3,4,5],[4,5,6,7,8],[7,8,9,10,11]]])\n",
    "print(arr[0,1,0:3])\n"
   ]
  },
  {
   "cell_type": "markdown",
   "id": "652e7aed-c50b-42b9-af0a-05ddf01d7bb2",
   "metadata": {},
   "source": [
    "# Data types in Numpy"
   ]
  },
  {
   "cell_type": "code",
   "execution_count": null,
   "id": "8984c80f-ffca-404b-88c6-ba3b312574a5",
   "metadata": {},
   "outputs": [],
   "source": [
    "i - integer\n",
    "b - boolean\n",
    "u - unsigned integer\n",
    "f - float\n",
    "c - complex float\n",
    "m - timedelta\n",
    "M - datetime\n",
    "O - object\n",
    "S - String\n",
    "U - unicode String\n",
    "V - fixed chunk of memory for other type(void)\n"
   ]
  },
  {
   "cell_type": "markdown",
   "id": "1ee24f9f-003a-44e6-8312-adc0477c3e50",
   "metadata": {},
   "source": [
    "# checking the data type of an array"
   ]
  },
  {
   "cell_type": "code",
   "execution_count": 13,
   "id": "61fde6ad-a8af-46cf-989e-776a58878c0d",
   "metadata": {},
   "outputs": [
    {
     "name": "stdout",
     "output_type": "stream",
     "text": [
      "int32\n"
     ]
    }
   ],
   "source": [
    "arr = np.array([1,2,3,4,5,6])\n",
    "print(arr.dtype)"
   ]
  },
  {
   "cell_type": "code",
   "execution_count": 14,
   "id": "554c5d06-b9f1-4f61-9ac2-0bc10a77ef88",
   "metadata": {},
   "outputs": [
    {
     "name": "stdout",
     "output_type": "stream",
     "text": [
      "<U6\n"
     ]
    }
   ],
   "source": [
    "arr = np.array([\"animas\",\"bat\",\"cat\"])\n",
    "print(arr.dtype)"
   ]
  },
  {
   "cell_type": "markdown",
   "id": "1d06c3f7-da96-4bf9-a4f4-6123f30cb1d7",
   "metadata": {},
   "source": [
    "## creating arrays with a defined data type"
   ]
  },
  {
   "cell_type": "code",
   "execution_count": 15,
   "id": "85374acf-dc54-46a2-a02a-c1cb2dca5bc8",
   "metadata": {},
   "outputs": [
    {
     "name": "stdout",
     "output_type": "stream",
     "text": [
      "[b'1' b'2' b'3' b'4' b'5']\n",
      "|S1\n"
     ]
    }
   ],
   "source": [
    "arr = np.array([1,2,3,4,5], dtype = 'S')\n",
    "print(arr)\n",
    "print(arr.dtype)"
   ]
  },
  {
   "cell_type": "markdown",
   "id": "096470e0-b4f3-4396-82b0-dde6e52a24cc",
   "metadata": {},
   "source": [
    "## Numpy array shape"
   ]
  },
  {
   "cell_type": "markdown",
   "id": "c9918b68-ebfa-4f97-83e8-7e05106c7065",
   "metadata": {},
   "source": [
    "the shape of an array is the number of elements in each dimension"
   ]
  },
  {
   "cell_type": "markdown",
   "id": "28def2ef-5bcc-4c0e-b3b8-341ec9d5fca2",
   "metadata": {},
   "source": [
    "## print the shape of a 2D array"
   ]
  },
  {
   "cell_type": "code",
   "execution_count": 18,
   "id": "11dcce63-f8be-4a50-a976-fcfeb3c5fe1f",
   "metadata": {},
   "outputs": [
    {
     "name": "stdout",
     "output_type": "stream",
     "text": [
      "(2, 4)\n"
     ]
    }
   ],
   "source": [
    "arr = np.array([[1,2,3,4],[5,6,7,8]])\n",
    "print(arr.shape)\n",
    "# output is (2,4) that means it has 2 rows and 4 columns"
   ]
  },
  {
   "cell_type": "code",
   "execution_count": 23,
   "id": "256ccec4-af9e-4f13-a8b7-9539b637ed2e",
   "metadata": {},
   "outputs": [
    {
     "name": "stdout",
     "output_type": "stream",
     "text": [
      "(2, 2, 3)\n"
     ]
    }
   ],
   "source": [
    "arr = np.array([[[1,2,3],[4,5,6]],[[7,8,9],[11,12,14]]])\n",
    "print(arr.shape)\n",
    "# the shape here is defines as (1,3,3) representing\n",
    "# 2 = 2 rows\n",
    "# 2 = we have 2 different set of data in each row\n",
    "# 3 = 3 elements in each set of data"
   ]
  },
  {
   "cell_type": "markdown",
   "id": "15d5348f-3105-4ef3-8a64-e69c57bd556d",
   "metadata": {},
   "source": [
    "## joining Numpy arrays"
   ]
  },
  {
   "cell_type": "code",
   "execution_count": 25,
   "id": "6f8bb4a1-c41f-4bd2-a601-6bb5195be921",
   "metadata": {},
   "outputs": [
    {
     "name": "stdout",
     "output_type": "stream",
     "text": [
      "[1 2 3 4 5 6]\n"
     ]
    }
   ],
   "source": [
    "arr1 = np.array([1,2,3])\n",
    "arr2 = np.array([4,5,6])\n",
    "# concatenate function to join arrays\n",
    "arr = np.concatenate((arr1,arr2))\n",
    "print(arr)"
   ]
  },
  {
   "cell_type": "markdown",
   "id": "79eb6d24-f782-47b3-8f0d-506488f5d580",
   "metadata": {},
   "source": [
    "## join 2D arrays"
   ]
  },
  {
   "cell_type": "code",
   "execution_count": 33,
   "id": "7c19753d-b2ee-4468-a528-6f8df8f50e58",
   "metadata": {},
   "outputs": [
    {
     "name": "stdout",
     "output_type": "stream",
     "text": [
      "[[1 2 5 6]\n",
      " [3 4 7 8]]\n",
      "2\n",
      "[[1 2]\n",
      " [3 4]\n",
      " [5 6]\n",
      " [7 8]]\n",
      "2\n"
     ]
    }
   ],
   "source": [
    "arr1 = np.array([[1,2],[3,4]])\n",
    "arr2 = np.array([[5,6],[7,8]])\n",
    "# concatenate function to join arrays\n",
    "arr = np.concatenate((arr1,arr2),axis=1)\n",
    "print(arr)\n",
    "print(arr.ndim)\n",
    "arr0 = np.concatenate((arr1,arr2),axis=0)\n",
    "print(arr0)\n",
    "print(arr0.ndim)"
   ]
  },
  {
   "cell_type": "markdown",
   "id": "064f17c8-26d4-484c-a570-ecf3b376ac25",
   "metadata": {},
   "source": [
    "## Spliting Numpy Arrays"
   ]
  },
  {
   "cell_type": "markdown",
   "id": "094d1ad9-90db-425b-b5bf-6f949376b7da",
   "metadata": {},
   "source": [
    "# spliting the array in 3 parts"
   ]
  },
  {
   "cell_type": "code",
   "execution_count": 34,
   "id": "7542c0c9-6990-407b-b9fd-c7df49b6f02c",
   "metadata": {},
   "outputs": [
    {
     "name": "stdout",
     "output_type": "stream",
     "text": [
      "[array([1, 2]), array([3, 4]), array([5, 6])]\n"
     ]
    }
   ],
   "source": [
    "arr = np.array([1,2,3,4,5,6])\n",
    "newarr = np.array_split(arr,3)\n",
    "print(newarr)"
   ]
  },
  {
   "cell_type": "markdown",
   "id": "a93e7c70-1261-4430-b699-643b253ca459",
   "metadata": {},
   "source": [
    "### spliting the array in 4 parts"
   ]
  },
  {
   "cell_type": "code",
   "execution_count": 35,
   "id": "54c8047a-fd66-4d28-abcb-d664a45238b1",
   "metadata": {},
   "outputs": [
    {
     "name": "stdout",
     "output_type": "stream",
     "text": [
      "[array([1, 2]), array([3, 4]), array([5]), array([6])]\n"
     ]
    }
   ],
   "source": [
    "arr = np.array([1,2,3,4,5,6])\n",
    "newarr = np.array_split(arr,4)\n",
    "print(newarr)"
   ]
  },
  {
   "cell_type": "markdown",
   "id": "9c45c800-0252-4bcb-98bb-d2aa7783a53d",
   "metadata": {},
   "source": [
    "# Ravel and flatten"
   ]
  },
  {
   "cell_type": "markdown",
   "id": "e42cabfc-103f-4c27-802c-737f0ae36a2f",
   "metadata": {},
   "source": [
    "## convert multidimensional array into 1D array"
   ]
  },
  {
   "cell_type": "code",
   "execution_count": 37,
   "id": "c7769536-359f-4ed6-acb6-bb8b7d5f1719",
   "metadata": {},
   "outputs": [
    {
     "name": "stdout",
     "output_type": "stream",
     "text": [
      "dimension is  3\n",
      "[1 2 3 4 5 6 7 8 9]\n",
      "dimension is  1\n"
     ]
    }
   ],
   "source": [
    "# creating a 3 D array to covert into 1D\n",
    "m = np.array([[[1,2,3],[4,5,6],[7,8,9]]])\n",
    "print(\"dimension is \", m.ndim)\n",
    "n = m.ravel()\n",
    "print(n)\n",
    "print(\"dimension is \", n.ndim)\n",
    "# flatten function is also used to do the same work\n"
   ]
  },
  {
   "cell_type": "code",
   "execution_count": 40,
   "id": "6268a568-1c06-4308-8a2d-66a65447f88b",
   "metadata": {},
   "outputs": [
    {
     "name": "stdout",
     "output_type": "stream",
     "text": [
      "[[[[ 1  2  3]\n",
      "   [78 89 96]\n",
      "   [45  6  7]]]]\n",
      "4\n",
      "[ 1  2  3 78 89 96 45  6  7]\n",
      "1\n"
     ]
    }
   ],
   "source": [
    "# converting 4D array into 1 D array\n",
    "c = np.array([[[[1,2,3],[78,89,96],[45,6,7]]]])\n",
    "print(c)\n",
    "print(c.ndim)\n",
    "d = c.ravel()\n",
    "print(d)\n",
    "print(d.ndim)"
   ]
  },
  {
   "cell_type": "markdown",
   "id": "c9af4ba1-1a94-4d68-8fca-1e138f70f347",
   "metadata": {},
   "source": [
    "# Unique functions"
   ]
  },
  {
   "cell_type": "code",
   "execution_count": 43,
   "id": "ba57436f-27da-4209-8f87-3662294beaba",
   "metadata": {},
   "outputs": [
    {
     "name": "stdout",
     "output_type": "stream",
     "text": [
      "[ 1  2  3  4 45  6  7  8 96  5  3  3  2  4  5  6  7  8 99  6  6  5]\n",
      "[ 1  2  3  4  5  6  7  8 45 96 99]\n",
      "(array([ 1,  2,  3,  4,  5,  6,  7,  8, 45, 96, 99]), array([ 0,  1,  2,  3,  9,  5,  6,  7,  4,  8, 18], dtype=int64))\n"
     ]
    }
   ],
   "source": [
    "# unique function is to get unique value from an array and remove the duplicate ones\n",
    "k = np.array([1,2,3,4,45,6,7,8,96,5,3,3,2,4,5,6,7,8,99,6,6,5])\n",
    "print(k)\n",
    "x = np.unique(k)\n",
    "print(x)\n",
    "# to get the index number of the values we use\n",
    "x = np.unique(k, return_index = True)\n",
    "print(x)\n"
   ]
  },
  {
   "cell_type": "markdown",
   "id": "7a5feb02-c506-40c4-a378-778b7cb154c3",
   "metadata": {},
   "source": [
    "### to check the number of repeated values in an array"
   ]
  },
  {
   "cell_type": "code",
   "execution_count": 45,
   "id": "137dce5e-2a1b-4f3b-be32-f6b5e5b958db",
   "metadata": {},
   "outputs": [
    {
     "name": "stdout",
     "output_type": "stream",
     "text": [
      "[ 1  2  3  4 45  6  7  8 96  5  3  3  2  4  5  6  7  8 99  6  6  5]\n",
      "(array([ 1,  2,  3,  4,  5,  6,  7,  8, 45, 96, 99]), array([1, 2, 3, 2, 3, 4, 2, 2, 1, 1, 1], dtype=int64))\n"
     ]
    }
   ],
   "source": [
    "k = np.array([1,2,3,4,45,6,7,8,96,5,3,3,2,4,5,6,7,8,99,6,6,5])\n",
    "print(k)\n",
    "x = np.unique(k, return_counts = True)\n",
    "print(x)"
   ]
  },
  {
   "cell_type": "markdown",
   "id": "9f8ba693-ebdc-4d7c-b527-4801b12ddf2b",
   "metadata": {},
   "source": [
    "## Delete"
   ]
  },
  {
   "cell_type": "code",
   "execution_count": 46,
   "id": "c7030f5b-32f6-4ed0-a03a-677f1534d638",
   "metadata": {},
   "outputs": [
    {
     "name": "stdout",
     "output_type": "stream",
     "text": [
      "[12 14 15]\n"
     ]
    }
   ],
   "source": [
    "a = np.array([12,13,14,15])\n",
    "d = np.delete(a,[1])\n",
    "print(d)"
   ]
  },
  {
   "cell_type": "markdown",
   "id": "15ddb63b-0d52-4732-aa47-da4e39278a98",
   "metadata": {},
   "source": [
    "## delete from 2 d arrays"
   ]
  },
  {
   "cell_type": "code",
   "execution_count": 47,
   "id": "1ebcd833-2f6d-4bb0-8fa2-d7b61cd14f5c",
   "metadata": {},
   "outputs": [
    {
     "name": "stdout",
     "output_type": "stream",
     "text": [
      "[[ 1  2  3  4]\n",
      " [ 5  6  7  8]\n",
      " [ 9 10 11 12]]\n",
      "\n",
      "[[1 2 3 4]\n",
      " [5 6 7 8]]\n"
     ]
    }
   ],
   "source": [
    "x = np.array([[1,2,3,4],[5,6,7,8],[9,10,11,12]])\n",
    "print(x)\n",
    "m = np.delete(x, 2,axis = 0)\n",
    "print()\n",
    "print(m)"
   ]
  },
  {
   "cell_type": "code",
   "execution_count": null,
   "id": "b5492577-50f6-4add-bee0-e9853d6dc723",
   "metadata": {},
   "outputs": [],
   "source": []
  }
 ],
 "metadata": {
  "kernelspec": {
   "display_name": "Python 3 (ipykernel)",
   "language": "python",
   "name": "python3"
  },
  "language_info": {
   "codemirror_mode": {
    "name": "ipython",
    "version": 3
   },
   "file_extension": ".py",
   "mimetype": "text/x-python",
   "name": "python",
   "nbconvert_exporter": "python",
   "pygments_lexer": "ipython3",
   "version": "3.12.7"
  }
 },
 "nbformat": 4,
 "nbformat_minor": 5
}
