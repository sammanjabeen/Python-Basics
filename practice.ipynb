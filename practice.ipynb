{
 "cells": [
  {
   "cell_type": "code",
   "execution_count": 1,
   "id": "29b05de1-13f3-4a61-92b4-525eb4952a99",
   "metadata": {},
   "outputs": [
    {
     "name": "stdout",
     "output_type": "stream",
     "text": [
      "this is my first project\n"
     ]
    }
   ],
   "source": [
    "print(\"this is my first project\")"
   ]
  },
  {
   "cell_type": "code",
   "execution_count": 2,
   "id": "8e617279-9334-4bee-b214-8e137521e26a",
   "metadata": {},
   "outputs": [
    {
     "name": "stdout",
     "output_type": "stream",
     "text": [
      "hello world\n"
     ]
    }
   ],
   "source": [
    "print(\"hello world\")"
   ]
  },
  {
   "cell_type": "code",
   "execution_count": 3,
   "id": "7e3046a3-28b1-48d1-8973-feb6b4ba4251",
   "metadata": {},
   "outputs": [
    {
     "name": "stdout",
     "output_type": "stream",
     "text": [
      "my name is saman\n",
      "35\n",
      "3\n"
     ]
    }
   ],
   "source": [
    "print(\"my name is saman\") # this is my name\n",
    "print(\"35\") # this is my age\n",
    "print(2+1) #this is a addition sum"
   ]
  },
  {
   "cell_type": "code",
   "execution_count": 4,
   "id": "341883c5-690e-4939-9cdb-af14556a2bef",
   "metadata": {},
   "outputs": [
    {
     "name": "stdout",
     "output_type": "stream",
     "text": [
      "10\n"
     ]
    }
   ],
   "source": [
    "x = 5\n",
    "x = 10\n",
    "\n",
    "print(x)\n"
   ]
  },
  {
   "cell_type": "code",
   "execution_count": 5,
   "id": "355e6365-49d6-4cdd-a4ae-60d1db074de8",
   "metadata": {},
   "outputs": [
    {
     "name": "stdout",
     "output_type": "stream",
     "text": [
      "Jhon Doe\n"
     ]
    }
   ],
   "source": [
    "first_name = \"Jhon\"\n",
    "last_name = \"Doe\"\n",
    "full_name = first_name + \" \" + last_name\n",
    "print(full_name)"
   ]
  },
  {
   "cell_type": "code",
   "execution_count": 6,
   "id": "51eae6e4-1af2-4901-af83-166e0be0da8c",
   "metadata": {},
   "outputs": [
    {
     "name": "stdout",
     "output_type": "stream",
     "text": [
      "<class 'bool'>\n"
     ]
    }
   ],
   "source": [
    "age = True\n",
    "\n",
    "print(type(age))"
   ]
  },
  {
   "cell_type": "markdown",
   "id": "e91e3952-d959-4c5c-a9e8-334d6f31217e",
   "metadata": {},
   "source": [
    "name = \"Saman\" # this is name of the customer\n",
    "age = 35  # age of the customer\n",
    "height = 5.4 # height of the customer\n",
    "weigh = \"80 kg\"  # weigh of the customer\n",
    "is_married = True # she was asked if she is married or not and her answer was yes\n",
    "have_children = True # she was assked is she having children or not and her answer was yes\n",
    "print (name, age, height,weigh,is_married,have_children) # printing all the variables"
   ]
  },
  {
   "cell_type": "code",
   "execution_count": 7,
   "id": "356bf5c2-7cc5-475b-b9ed-82fd8404119d",
   "metadata": {},
   "outputs": [
    {
     "ename": "NameError",
     "evalue": "name 'name' is not defined",
     "output_type": "error",
     "traceback": [
      "\u001b[1;31m---------------------------------------------------------------------------\u001b[0m",
      "\u001b[1;31mNameError\u001b[0m                                 Traceback (most recent call last)",
      "Cell \u001b[1;32mIn[7], line 1\u001b[0m\n\u001b[1;32m----> 1\u001b[0m \u001b[38;5;28mprint\u001b[39m(\u001b[38;5;28mtype\u001b[39m(name)) \u001b[38;5;66;03m#printing the types of all used variables in the data\u001b[39;00m\n\u001b[0;32m      2\u001b[0m \u001b[38;5;28mprint\u001b[39m(\u001b[38;5;28mtype\u001b[39m(age))\n\u001b[0;32m      3\u001b[0m \u001b[38;5;28mprint\u001b[39m(\u001b[38;5;28mtype\u001b[39m(height))\n",
      "\u001b[1;31mNameError\u001b[0m: name 'name' is not defined"
     ]
    }
   ],
   "source": [
    "print(type(name)) #printing the types of all used variables in the data\n",
    "print(type(age))\n",
    "print(type(height))\n",
    "print(type(weigh))\n",
    "print(type(is_married))\n",
    "print(type(have_children))"
   ]
  },
  {
   "cell_type": "code",
   "execution_count": null,
   "id": "0177f91e-24f3-4165-8526-81ee49b17895",
   "metadata": {},
   "outputs": [],
   "source": [
    "print(\"Hello World\")"
   ]
  },
  {
   "cell_type": "markdown",
   "id": "c19208ff-7f32-4ff5-9a13-476835f3e92c",
   "metadata": {},
   "source": [
    "### Hello World"
   ]
  },
  {
   "cell_type": "markdown",
   "id": "3645fc8d-932f-4ab7-b305-39b5310b97fc",
   "metadata": {},
   "source": [
    "## this is the heading of this page where we are going to learn something new"
   ]
  },
  {
   "cell_type": "markdown",
   "id": "90b8f241-2c71-4297-aec7-3ac5673c811f",
   "metadata": {},
   "source": [
    "# Float Function"
   ]
  },
  {
   "cell_type": "code",
   "execution_count": null,
   "id": "e0166e20-5e30-4b8e-96b1-bca958144b96",
   "metadata": {},
   "outputs": [],
   "source": [
    "numb = 10\n",
    "print(type(numb))\n",
    "a = float(numb)\n",
    "print(a)\n",
    "print(type(a))"
   ]
  },
  {
   "cell_type": "code",
   "execution_count": null,
   "id": "f1f31cd4-c06d-4a8f-a759-c4b287ab1433",
   "metadata": {},
   "outputs": [],
   "source": [
    "a = \"3.14\"\n",
    "b = float(a)\n",
    "print(type(b))\n",
    "c = int(b)\n",
    "print(c)\n"
   ]
  },
  {
   "cell_type": "code",
   "execution_count": null,
   "id": "f96b6151-61d9-4ee8-ae5a-2e137ec9196b",
   "metadata": {},
   "outputs": [],
   "source": [
    "a=\"22\"\n",
    "b = int(a)\n",
    "print(b)"
   ]
  },
  {
   "cell_type": "code",
   "execution_count": null,
   "id": "41f88a45-908b-4031-9614-10f43a8b1b88",
   "metadata": {},
   "outputs": [],
   "source": [
    "print(type(a))\n",
    "print(type(b))"
   ]
  },
  {
   "cell_type": "code",
   "execution_count": null,
   "id": "7dd69eb1-c24e-4c14-964e-2879b6a2bf08",
   "metadata": {},
   "outputs": [],
   "source": [
    "integer = 567\n",
    "\n",
    "print(type(integer))"
   ]
  },
  {
   "cell_type": "code",
   "execution_count": null,
   "id": "2e2457ee-622e-43d9-8e91-5be8f85f0718",
   "metadata": {},
   "outputs": [],
   "source": [
    "b = str(integer)\n",
    "print(type(b))"
   ]
  },
  {
   "cell_type": "code",
   "execution_count": null,
   "id": "a58508e5-af2f-4893-8367-921abb915e6e",
   "metadata": {},
   "outputs": [],
   "source": [
    "c = \"22\"\n",
    "d = b+c\n",
    "print(d)"
   ]
  },
  {
   "cell_type": "code",
   "execution_count": null,
   "id": "774b2968-efcb-426e-bca4-76e8f8a9676c",
   "metadata": {},
   "outputs": [],
   "source": [
    "score = 1234.56\n",
    "\n",
    "print(\"the player score is\", int(score))"
   ]
  },
  {
   "cell_type": "code",
   "execution_count": null,
   "id": "9a970022-44ac-463a-9ffc-8b17bf8bcb0f",
   "metadata": {},
   "outputs": [],
   "source": [
    "p = 2500000\n",
    "r = 9.34567\n",
    "t = 3\n",
    "SI = ((p*r*t)/100)\n",
    "print(\"the simple interest is\",SI)\n",
    "print(\"the integer value is\", int(SI))"
   ]
  },
  {
   "cell_type": "code",
   "execution_count": null,
   "id": "a6ed27ed-dfd9-4d48-9f28-62da7eea0e59",
   "metadata": {},
   "outputs": [],
   "source": [
    "a = True\n",
    "b = False\n",
    "print(a and b)\n",
    "print(a or b)\n",
    "print(not a"
   ]
  },
  {
   "cell_type": "markdown",
   "id": "b5bced4b-1fa3-4c3b-b692-8ec29efc29f0",
   "metadata": {},
   "source": [
    "### input function"
   ]
  },
  {
   "cell_type": "markdown",
   "id": "0a782e65-575b-412d-ba33-22062fd72f26",
   "metadata": {},
   "source": [
    "## write a python cde for hostel students. ask them to mention their course name and age for 5 students. the calculate the avg age of the students. "
   ]
  },
  {
   "cell_type": "code",
   "execution_count": null,
   "id": "4be89110-b399-4324-b6ae-c8c597adb6d9",
   "metadata": {},
   "outputs": [],
   "source": [
    "st_1 = abs(int(input(\"enter your age\")))\n",
    "st_1_c=input(\"enter your course name\")\n",
    "st_2 = abs(int(input(\"enter your age\")))\n",
    "st_2_c=input(\"enter your course name\")\n",
    "st_3 = abs(int(input(\"enter your age\")))\n",
    "st_3_c=input(\"enter your course name\")\n",
    "st_4 = abs(int(input(\"enter your age\")))\n",
    "st_4_c=input(\"enter your course name\")\n",
    "st_5 = abs(int(input(\"enter your age\")))\n",
    "st_5_c=input(\"enter your course name\")\n",
    "print(\"age of the first student is \", st_1,\"and course name is \" , st_1_c)\n",
    "print(\"age of the second student is \", st_2,\"and course name is \" , st_2_c)\n",
    "print(\"age of the third student is \", st_3,\"and course name is \" , st_3_c)\n",
    "print(\"age of the fourth student is \", st_4,\"and course name is \" , st_3_c)\n",
    "print(\"age of the fifth student is \", st_5,\"and course name is \" , st_4_c)\n",
    "sum_age = st_1+st_2+st_3+st_4+st_5\n",
    "avg_age = sum_age/5\n",
    "\n",
    "print(\"the average age of all 5 students is \", avg_age)"
   ]
  },
  {
   "cell_type": "code",
   "execution_count": null,
   "id": "6603ced4-be68-43b3-9756-4219604460ee",
   "metadata": {},
   "outputs": [],
   "source": [
    "help(len)"
   ]
  },
  {
   "cell_type": "markdown",
   "id": "e8688406-c118-4285-a0b3-70006745f398",
   "metadata": {},
   "source": [
    "### assignment question"
   ]
  },
  {
   "cell_type": "code",
   "execution_count": null,
   "id": "5792c1f8-f9a6-41c3-96a8-f9bd5d412c54",
   "metadata": {},
   "outputs": [],
   "source": [
    "current_temp = int(input(\"enter the current temperature\"))\n",
    "min_temp = 25\n",
    "max_temp = 45\n",
    "\n",
    "a = min_temp <= current_temp <= max_temp\n",
    "\n",
    "\n",
    "print(\"if the current temperature is within the range\" , a)"
   ]
  },
  {
   "cell_type": "markdown",
   "id": "0c663a68-19f4-4c2e-a5d4-92a97209efee",
   "metadata": {},
   "source": [
    "# Conditional Statement"
   ]
  },
  {
   "cell_type": "code",
   "execution_count": null,
   "id": "2b9b060e-0383-48b2-9d2e-18c3f67a0511",
   "metadata": {},
   "outputs": [],
   "source": [
    "i = 20\n",
    "if i<10:\n",
    "    print(\"the condition is true\")\n",
    "print(\"Condition is false\")"
   ]
  },
  {
   "cell_type": "code",
   "execution_count": null,
   "id": "c5f020c2-88a8-46cd-9dc3-5d6ba2672556",
   "metadata": {},
   "outputs": [],
   "source": [
    "temp = float(input(\"enter the temperature\"))\n",
    "if temp <15:\n",
    "    print(\"Temperature is not convinient\")\n",
    "if 24 < temp < 28:\n",
    "    print(\"Temperature is convinient\")\n",
    "if temp > 28:\n",
    "    print(\"Temperature is higher then expected\")\n"
   ]
  },
  {
   "cell_type": "markdown",
   "id": "ee48daf1-7fc8-4a13-92c1-1eecc1d5c477",
   "metadata": {},
   "source": [
    "## if-else Statememt"
   ]
  },
  {
   "cell_type": "code",
   "execution_count": null,
   "id": "b36514ee-dfb4-488f-aa40-2eefa3509386",
   "metadata": {},
   "outputs": [],
   "source": [
    "age = int(input(\"Enter your age\"))\n",
    "\n",
    "if age >18:\n",
    "    print(\"You are eligible to vote\")\n",
    "else:\n",
    "    print(\"You are under age\")"
   ]
  },
  {
   "cell_type": "markdown",
   "id": "fb0c68e6-ce5b-4e96-acf8-779c6acfdce0",
   "metadata": {},
   "source": [
    "write a python code to calculate the net salary of the employees of a company base on their experience \n",
    "if more than 5 years then they wll get a bouns of 8% in their basic salary but with a deduction of 12% tax. and if their experience is not more than 5 years than they will not \n",
    "get any bonus but the tax will be deducted as stated"
   ]
  },
  {
   "cell_type": "code",
   "execution_count": null,
   "id": "219cc252-a30a-46c6-b11c-d7ec45e3b81b",
   "metadata": {},
   "outputs": [],
   "source": [
    "base_salary = float(input(\"Enter your base salary\"))\n",
    "years_of_exp = float(input(\"Enter your years of experience\"))\n",
    "\n",
    "if years_of_exp >=5:\n",
    "    total_salary = int(base_salary + (0.08 * base_salary)-(0.12*base_salary))\n",
    "    print(\"Your net salary is \", total_salary)\n",
    "else: \n",
    "    net_salary = int(base_salary- (0.12*base_salary))\n",
    "    print(\"Your net salary is \", net_salary)"
   ]
  },
  {
   "cell_type": "markdown",
   "id": "15699a43-c4e0-49b0-9d93-4361a523740a",
   "metadata": {},
   "source": [
    "# if elif else Statement"
   ]
  },
  {
   "cell_type": "markdown",
   "id": "780c7fce-1bc8-4096-8e81-d05b51b0f105",
   "metadata": {},
   "source": [
    "# Practice Questions "
   ]
  },
  {
   "cell_type": "markdown",
   "id": "78f85f75-88af-4a29-9ae3-5077b5120bb5",
   "metadata": {},
   "source": [
    "### Write a Python program that takes an integer input from the user and checks if the number is even or odd."
   ]
  },
  {
   "cell_type": "code",
   "execution_count": null,
   "id": "b4bd7437-63c5-4601-ba18-9d5ef13f2ced",
   "metadata": {},
   "outputs": [],
   "source": [
    "number = int(input(\"Enter the digit\"))\n",
    "\n",
    "if number%2==0:\n",
    "    print(number, \" is an even number\")\n",
    "else:\n",
    "    print(number, \" is an odd number\")"
   ]
  },
  {
   "cell_type": "markdown",
   "id": "06bb2e44-e40a-410c-8e78-26071c7ac64b",
   "metadata": {},
   "source": [
    "### Write a Python program that takes two numbers as input and prints which one is larger. If both numbers are equal, display a message saying they are equal."
   ]
  },
  {
   "cell_type": "code",
   "execution_count": null,
   "id": "411c8b6f-767b-4fcc-91ff-932ae23e1131",
   "metadata": {},
   "outputs": [],
   "source": [
    "num_1 = int(input(\"Enter first number\"))\n",
    "num_2 = int(input(\"Enter second number\"))\n",
    "\n",
    "if num_1 > num_2:\n",
    "    print(num_1, \" is greater than \", num_2)\n",
    "elif num_1 < num_2:\n",
    "    print(num_1, \" is less than \", num_2)\n",
    "else:\n",
    "    print(\"both numbers are equal\")"
   ]
  },
  {
   "cell_type": "markdown",
   "id": "a78fa808-326f-4839-809e-83d44ae1cbb0",
   "metadata": {},
   "source": [
    "### Write a Python program that asks the user for their exam score (0-100). Based on the score, print the grade:\n",
    "\n",
    "A for scores 90 and above\n",
    "B for scores between 80 and 89\n",
    "C for scores between 70 and 79\n",
    "F for scores below 70"
   ]
  },
  {
   "cell_type": "code",
   "execution_count": null,
   "id": "d26a79b9-ec11-469b-a6f2-4838f884514c",
   "metadata": {},
   "outputs": [],
   "source": [
    "score = int(input(\"Enter your score (1-100)\"))\n",
    "\n",
    "if 90 <= score <= 100:\n",
    "    print(\"Your grade is A\")\n",
    "elif 80 <= score <= 89:\n",
    "    print(\"Your grade is B\")\n",
    "elif 70 <= score <= 79:\n",
    "    print(\"Your grade is C\")\n",
    "elif score >100:\n",
    "    print(\"invalid value\")\n",
    "elif score < 0:\n",
    "    print(\"score cannot be negative\")\n",
    "else:\n",
    "    print(\"Your grade is F\")"
   ]
  },
  {
   "cell_type": "markdown",
   "id": "88316a3c-b3c4-4be3-be65-f0b8d62ec2e5",
   "metadata": {},
   "source": [
    "# loops"
   ]
  },
  {
   "cell_type": "code",
   "execution_count": null,
   "id": "801c61a0-82fc-47fa-9d47-81c8f93e6edb",
   "metadata": {},
   "outputs": [],
   "source": [
    "score = int(input(\"Enter your score (1-100)\"))\n",
    "\n",
    "if 90 <= score <= 100:\n",
    "    print(\"Your grade is A\")\n",
    "elif 80 <= score <= 89:\n",
    "    print(\"Your grade is B\")\n",
    "elif 70 <= score <= 79:\n",
    "    print(\"Your grade is C\")\n",
    "elif score >100:\n",
    "    print(\"invalid value\")\n",
    "elif score < 0:\n",
    "    print(\"score cannot be negative\")\n",
    "else:\n",
    "    print(\"Your grade is F\")"
   ]
  },
  {
   "cell_type": "code",
   "execution_count": null,
   "id": "f834545f-7235-44f8-940d-6be80ded33de",
   "metadata": {},
   "outputs": [],
   "source": [
    "count = 1\n",
    "while count <=5:\n",
    "    print(count)\n",
    "    count = count+1"
   ]
  },
  {
   "cell_type": "code",
   "execution_count": null,
   "id": "c72aedfe-080c-4808-b1bf-612cb9698f9b",
   "metadata": {},
   "outputs": [],
   "source": [
    "num = 1\n",
    "while num <=50:\n",
    "    if num%2 ==0:\n",
    "        print(num)\n",
    "    num = num+1"
   ]
  },
  {
   "cell_type": "markdown",
   "id": "ac35f3e3-5f96-4568-a0b6-e6acc2abe0e0",
   "metadata": {},
   "source": [
    "### while loop using if else statement"
   ]
  },
  {
   "cell_type": "code",
   "execution_count": null,
   "id": "98132ee0-9fd4-455b-8202-d2043c9c424f",
   "metadata": {},
   "outputs": [],
   "source": [
    "email = input(\"please enter your email address\")\n",
    "\n",
    "valid_email = False\n",
    "while not valid_email:\n",
    "    if \"@\" in email and \".\" in email:\n",
    "        print(\"Email address validation is passed.\")\n",
    "        valid_email = True\n",
    "    else:\n",
    "        print(\"Invalid email, please try again\")\n",
    "        email = input(\"please enter a valid email address\")\n",
    "        "
   ]
  },
  {
   "cell_type": "markdown",
   "id": "f7791203-01a1-413d-92be-44fb2ba2d216",
   "metadata": {},
   "source": [
    "### lecture 9 : for loop"
   ]
  },
  {
   "cell_type": "code",
   "execution_count": null,
   "id": "ce56c193-2948-4eb0-9cf3-82de84ac99bf",
   "metadata": {},
   "outputs": [],
   "source": [
    "number = \"students\"\n",
    "for i in number:\n",
    "    print(i)"
   ]
  },
  {
   "cell_type": "code",
   "execution_count": null,
   "id": "bed9ca57-5da1-4fad-9e28-5c0ac8edbf18",
   "metadata": {},
   "outputs": [],
   "source": [
    "for i in range (6):\n",
    "    print(i)"
   ]
  },
  {
   "cell_type": "code",
   "execution_count": null,
   "id": "9038200e-e54c-435f-a2d0-3e8a88040cc2",
   "metadata": {},
   "outputs": [],
   "source": [
    "for x in range(5,11):\n",
    "    print(x)"
   ]
  },
  {
   "cell_type": "markdown",
   "id": "951c889d-269c-4f17-aa23-aa635fd2def1",
   "metadata": {},
   "source": [
    "# for loop anf if condition"
   ]
  },
  {
   "cell_type": "code",
   "execution_count": null,
   "id": "aec2a51a-1433-484d-a159-e8e4b106358c",
   "metadata": {},
   "outputs": [],
   "source": [
    "for i in range(0,11):\n",
    "    if i%2==0:\n",
    "        print(\"even\",i)\n",
    "    else:\n",
    "        print(\"odd\",i)"
   ]
  },
  {
   "cell_type": "markdown",
   "id": "6e316122-a78d-4151-8343-02b738dac1cb",
   "metadata": {},
   "source": [
    "# generate table of a number given by the user"
   ]
  },
  {
   "cell_type": "code",
   "execution_count": null,
   "id": "2d40e394-dba1-4261-9647-44ecff60f576",
   "metadata": {},
   "outputs": [],
   "source": [
    "number = int(input(\"enter the number to generate table of:\"))\n",
    "print(\"the table of \", number, \" is \")\n",
    "for i in range(15,36):\n",
    "    print(f\"{number} x {i} = {number*i}\")\n"
   ]
  },
  {
   "cell_type": "markdown",
   "id": "254ac8e5-5863-42b2-ac27-f8abaf0c8236",
   "metadata": {},
   "source": [
    "# practice question"
   ]
  },
  {
   "cell_type": "code",
   "execution_count": null,
   "id": "c03ecd69-e333-45fa-afb1-d75c1cbc6367",
   "metadata": {},
   "outputs": [],
   "source": [
    "number = int(input(\"enter the amount of products you want to purchase \"))\n",
    "total_price = 0\n",
    "\n",
    "for i in range(number):\n",
    "    price = float(input(\"Enter the price of the items \"))\n",
    "    total_price = total_price + price\n",
    "\n",
    "if total_price >= 100:\n",
    "    discount = 0.10* total_price\n",
    "elif 50 <=total_price <100:\n",
    "    discount = 0.5 * total_price\n",
    "else: discount = 0\n",
    "    \n",
    "print(\"your bill before deducting discount is \",total_price)\n",
    "total_bill = total_price-discount\n",
    "print(\"payable after deducting discount is \", total_bill)\n",
    "    "
   ]
  },
  {
   "cell_type": "markdown",
   "id": "f82d21f2-c938-4120-8485-7c8f78df58ee",
   "metadata": {},
   "source": [
    "### break statement \n"
   ]
  },
  {
   "cell_type": "markdown",
   "id": "14274ed6-acc5-4d1e-9861-d54b98afba87",
   "metadata": {},
   "source": [
    "### break statement is used to break the current iteration"
   ]
  },
  {
   "cell_type": "code",
   "execution_count": null,
   "id": "09b46a7e-3387-4d6f-863a-556789b27060",
   "metadata": {},
   "outputs": [],
   "source": [
    "for i in range(5):\n",
    "    if i ==3:\n",
    "        break\n",
    "    print(i)"
   ]
  },
  {
   "cell_type": "markdown",
   "id": "09d76caf-adc3-4f72-8a9d-546f44cadd24",
   "metadata": {},
   "source": [
    "### continue statement"
   ]
  },
  {
   "cell_type": "markdown",
   "id": "5155f745-3916-41d5-9cdc-1bd062e9807c",
   "metadata": {},
   "source": [
    "### continue statement is used to skip the current iteration of the loop and continue the current flow of the program and goes to the next iteration"
   ]
  },
  {
   "cell_type": "code",
   "execution_count": null,
   "id": "d64e0b86-0e3b-4837-8b46-75e69a1db9ed",
   "metadata": {},
   "outputs": [],
   "source": [
    "for i in range(5):\n",
    "    if i ==4:\n",
    "        continue\n",
    "    print(i)\n",
    "print(\"i have learnt the continue statement\")"
   ]
  },
  {
   "cell_type": "markdown",
   "id": "1de7ce40-b5d8-4b5d-889a-378ef877a0b8",
   "metadata": {},
   "source": [
    "## Practice Questions :\n",
    "### Even Numbers Printer\n",
    "### Write a program that uses a for loop to print all even numbers between 1 and 20. Skip the number 12 using the continue statement."
   ]
  },
  {
   "cell_type": "code",
   "execution_count": null,
   "id": "cfa5e876-aeb5-4a7b-aeca-efa569578cfe",
   "metadata": {},
   "outputs": [],
   "source": [
    "for i in range(1,21):\n",
    "    if i%2!=0:\n",
    "        continue\n",
    "    if i==12:\n",
    "        continue\n",
    "    print(i)\n",
    "    "
   ]
  },
  {
   "cell_type": "markdown",
   "id": "8ea8ead8-06aa-44c6-be21-e66170dc4b03",
   "metadata": {},
   "source": [
    "### Divisors Finder\n",
    "Create a program that takes an input number from the user and finds all of its divisors using a while loop. Stop the loop if a divisor greater than 10 is found using the break statement.\n"
   ]
  },
  {
   "cell_type": "code",
   "execution_count": null,
   "id": "41561d19-0af0-4b7b-b1ec-98aeedbc3541",
   "metadata": {},
   "outputs": [],
   "source": [
    "num = int(input(\"Enter the number \"))\n",
    "i = 1\n",
    "while i <= num:\n",
    "    if num%i==0:\n",
    "        print(i)\n",
    "    if i > 10:\n",
    "        break\n",
    "    i=i+1\n",
    "    "
   ]
  },
  {
   "cell_type": "markdown",
   "id": "c6d31980-4051-4897-889e-eafe8f2014a8",
   "metadata": {},
   "source": [
    "### Sum of Multiples\n",
    "### Write a for loop to calculate the sum of all multiples of 3 between 1 and 50. Use the continue statement to skip numbers that are also multiples of 5."
   ]
  },
  {
   "cell_type": "code",
   "execution_count": null,
   "id": "867c9500-1a5a-44a4-9080-03c12761037e",
   "metadata": {},
   "outputs": [],
   "source": [
    "total = 0\n",
    "for i in range(1,51):\n",
    "    if i%3==0:\n",
    "        if i%5==0:\n",
    "            continue\n",
    "        total +=i\n",
    "print(\"sum of all multiples of 3(excluding multiples of 5)\", total)"
   ]
  },
  {
   "cell_type": "code",
   "execution_count": null,
   "id": "a9b0c778-09e1-4c68-a8b2-4917e1e77c41",
   "metadata": {},
   "outputs": [],
   "source": [
    "total = 0\n",
    "for i in range(1, 51):\n",
    "    if i % 3 == 0:\n",
    "        if i % 5 == 0:\n",
    "            continue\n",
    "        total += i\n",
    "print(\"Sum of multiples of 3 (excluding multiples of 5):\", total)"
   ]
  },
  {
   "cell_type": "markdown",
   "id": "5657c903-8c98-4eee-b75e-a67370ec4961",
   "metadata": {},
   "source": [
    "### Reverse Countdown\n",
    "### Implement a while loop to print numbers from 10 to 1 in reverse order. If the number is 5, stop the loop using the break statement."
   ]
  },
  {
   "cell_type": "code",
   "execution_count": null,
   "id": "47c9b42f-d829-475f-9555-e22b90f3a224",
   "metadata": {},
   "outputs": [],
   "source": [
    "i = 10\n",
    "while i >0:\n",
    "    if i==5:\n",
    "        continue\n",
    "    print(i)\n",
    "    i -= 1"
   ]
  },
  {
   "cell_type": "markdown",
   "id": "0522e02c-e971-4299-b902-feae7d2a4d73",
   "metadata": {},
   "source": [
    "### Prime Number Checker\n",
    "### Write a program that takes a user input number and checks if it is prime using a for loop. Use the break statement to exit the loop if a divisor is found, and print whether the number is prime or not."
   ]
  },
  {
   "cell_type": "code",
   "execution_count": null,
   "id": "8cd24fdb-d108-47a4-97fc-438e0f487469",
   "metadata": {},
   "outputs": [],
   "source": [
    "number = int(input(\"enter a number\"))\n",
    "is_prime = True\n",
    "for i in range(2,number):\n",
    "    if number%i==0:\n",
    "        is_prime = False\n",
    "        break\n",
    "if is_prime:\n",
    "    print(f\"{number} is a prime number\")\n",
    "else:\n",
    "    print(f\"{number} is not a prime number\")\n",
    "    "
   ]
  },
  {
   "cell_type": "markdown",
   "id": "22a6913b-e4cd-4947-815f-b9e1657f0bad",
   "metadata": {},
   "source": [
    "# Lecture 10"
   ]
  },
  {
   "cell_type": "markdown",
   "id": "1b2d914c-af3c-4de2-9059-e9d95ac85aab",
   "metadata": {},
   "source": [
    "## userdefined functions"
   ]
  },
  {
   "cell_type": "markdown",
   "id": "491d4354-cd76-49c6-8208-141dc095f45a",
   "metadata": {},
   "source": [
    "creating and calling a userdefined functions"
   ]
  },
  {
   "cell_type": "code",
   "execution_count": null,
   "id": "3cddfbae-cc02-45bf-ad41-000602de5829",
   "metadata": {},
   "outputs": [],
   "source": [
    "def my_func():\n",
    "    print(\"my name is saman\")"
   ]
  },
  {
   "cell_type": "markdown",
   "id": "eac9af57-991d-49bc-8555-b2a64fa24362",
   "metadata": {},
   "source": [
    "my_func()"
   ]
  },
  {
   "cell_type": "code",
   "execution_count": null,
   "id": "ea7b668e-4f96-491e-8c53-5699c8194da9",
   "metadata": {},
   "outputs": [],
   "source": [
    "my_func()"
   ]
  },
  {
   "cell_type": "code",
   "execution_count": null,
   "id": "f7b9a80a-df5c-47ad-a15d-13eb8c4acf8a",
   "metadata": {},
   "outputs": [],
   "source": [
    "def details_bill():\n",
    "    print(\"the last date to pay your bill is next monday\")\n",
    "    print(\"after deadline you need to pay 5 days every day\")\n",
    "    print(\"pay your bill before deadline\")\n"
   ]
  },
  {
   "cell_type": "code",
   "execution_count": null,
   "id": "73202c20-002d-407b-aa24-401f8479b569",
   "metadata": {},
   "outputs": [],
   "source": [
    "for i in range(3):\n",
    "    a = input(\"enter your name\")\n",
    "    b = int(input(\"enter the unit as electricity you have consumed\"))\n",
    "    bill = b* 10\n",
    "    print(\"total amount payable is \", bill)\n",
    "    details_bill()"
   ]
  },
  {
   "cell_type": "markdown",
   "id": "b969f497-c961-474b-a6c3-e3416c0d3021",
   "metadata": {},
   "source": [
    "### create a function to check wheather a number entered by the user is even or odd"
   ]
  },
  {
   "cell_type": "code",
   "execution_count": null,
   "id": "58285232-67d7-4a6a-ba2b-1f4bbb316fd5",
   "metadata": {},
   "outputs": [],
   "source": [
    "def check_even_odd(number):\n",
    "    if number % 2 == 0:\n",
    "        print(number, \" is even\")\n",
    "    else:\n",
    "        print(number, \" is odd\")"
   ]
  },
  {
   "cell_type": "code",
   "execution_count": null,
   "id": "5969b3b7-4f0b-4cdf-9776-94cda79d7a12",
   "metadata": {},
   "outputs": [],
   "source": [
    "number = int(input(\"enter a number\"))\n",
    "check_even_odd(number)"
   ]
  },
  {
   "cell_type": "markdown",
   "id": "d77ddf20-39be-4bd5-b834-60e9c813319d",
   "metadata": {},
   "source": [
    "### 2 arguments"
   ]
  },
  {
   "cell_type": "code",
   "execution_count": null,
   "id": "cce64502-882a-4334-9d82-1361de6ad379",
   "metadata": {},
   "outputs": [],
   "source": [
    "def full_name(first_name, last_name):\n",
    "    print(\"your full name is \" ,first_name + \" \" + last_name)"
   ]
  },
  {
   "cell_type": "code",
   "execution_count": null,
   "id": "330f3c74-a5ea-4cb8-98d5-c53b0b9d8de5",
   "metadata": {},
   "outputs": [],
   "source": [
    "first_name = input(\"enter your first name\")\n",
    "last_name = input(\"enter your last name\")\n",
    "full_name(first_name, last_name)"
   ]
  },
  {
   "cell_type": "markdown",
   "id": "a8828d32-e26a-4ed5-8736-25cd790a708e",
   "metadata": {},
   "source": [
    "### String in Python"
   ]
  },
  {
   "cell_type": "code",
   "execution_count": null,
   "id": "ef22c55e-f563-4095-bcb4-05b2c62bb1e6",
   "metadata": {},
   "outputs": [],
   "source": [
    "str = \"I am saman \\n My age is 35 years old\"\n",
    "print(str)"
   ]
  },
  {
   "cell_type": "code",
   "execution_count": null,
   "id": "c2ed1654-0c6b-4d8e-9e77-ca8db3dc4bed",
   "metadata": {},
   "outputs": [],
   "source": [
    "print(\"I am saman \\n My age is 35 years old\")"
   ]
  },
  {
   "cell_type": "markdown",
   "id": "3d3d314e-6106-412b-9246-d61426062e35",
   "metadata": {},
   "source": [
    "### Multilines String"
   ]
  },
  {
   "cell_type": "markdown",
   "id": "689cc3b2-78d9-41e5-a572-7a34d4986103",
   "metadata": {},
   "source": [
    "## \"\"\" \"\"\" commas are used to send the tex to the next line. insteads of using\n",
    "## \\n again and again you can use \"\"\""
   ]
  },
  {
   "cell_type": "code",
   "execution_count": null,
   "id": "73242e89-e549-4dbe-a584-66cf4e2a26a9",
   "metadata": {},
   "outputs": [],
   "source": [
    "a = \"\"\" t is a long established fact that a reader will be distracted by the rea\n",
    "dable content of a page \n",
    "when looking at its layout. The point of using Lorem Ipsum is that it has a more-or-less\n",
    "normal distribution of letters, as opposed to using 'Content here, content here', maki\n",
    "ng it look like readable English. Many desktop publishing packages and web pa\n",
    "ge editors now use Lorem Ipsum as their default model text, and a search for 'lorem ips\n",
    "um' will uncover many web sites still in their infancy. Various versions have evolve\n",
    "d over the years, sometimes by accident, sometimes on purpose (injected humour and the like).\"\"\"\n",
    "\n",
    "print(a)"
   ]
  },
  {
   "cell_type": "markdown",
   "id": "1fe1826d-810a-41fb-a85d-68186eb9eef4",
   "metadata": {},
   "source": [
    "# Indexing in the strings"
   ]
  },
  {
   "cell_type": "code",
   "execution_count": null,
   "id": "3d1ad83a-ab74-4616-a95a-585a88227bd9",
   "metadata": {},
   "outputs": [],
   "source": [
    "a = \"hello dear learners\"\n",
    "# checking for index position of 'h' from hello' use []\n",
    "print(len(a))\n",
    "print(a[-19])\n",
    "print(a[-17], a[6],a[9], a[6:24])"
   ]
  },
  {
   "cell_type": "markdown",
   "id": "936e36c2-551a-421b-8899-ac4c2c1932c5",
   "metadata": {},
   "source": [
    "# Slicing in the String"
   ]
  },
  {
   "cell_type": "code",
   "execution_count": null,
   "id": "4147c1e3-8940-440e-906c-7eda7cda2afe",
   "metadata": {},
   "outputs": [],
   "source": [
    "a = \"I am learning data science\"\n",
    "#print(a[0:4])\n",
    "print(a[0:8])"
   ]
  },
  {
   "cell_type": "markdown",
   "id": "7b75ecd8-65dc-4917-98dd-d7750bdfba9c",
   "metadata": {},
   "source": [
    "## Slicing with jump"
   ]
  },
  {
   "cell_type": "code",
   "execution_count": null,
   "id": "0ecbee81-68f6-4f54-a9cd-d23d2550440b",
   "metadata": {},
   "outputs": [],
   "source": [
    "a = \"I am learning data science\"\n",
    "#print(a[0:10:2]) # to jump of 1 we have to write 2 here. its always n+1\n",
    "\n",
    "print(a[-6:-1:2])"
   ]
  },
  {
   "cell_type": "markdown",
   "id": "a40bacbc-0b7d-41b5-af40-6b980a8a9dc3",
   "metadata": {},
   "source": [
    "## practice questions:"
   ]
  },
  {
   "cell_type": "markdown",
   "id": "b2b02d74-3d0d-4343-88d5-3388097d3d25",
   "metadata": {},
   "source": [
    "### write a python program to extract date parts from a string. "
   ]
  },
  {
   "cell_type": "code",
   "execution_count": null,
   "id": "5e345da7-9a86-415b-9dc6-13ab67dee215",
   "metadata": {},
   "outputs": [],
   "source": [
    "def extraxt_date_parts(date_string):\n",
    "    year = int(date_string[0:4])\n",
    "    month = int(date_string[5:7])\n",
    "    day = int(date_string[9:10])\n",
    "    return(year,month,day)\n",
    "print(extraxt_date_parts(\"2024-12-05\"))\n"
   ]
  },
  {
   "cell_type": "markdown",
   "id": "f33b552f-a22f-4383-bdb6-53d95973ff56",
   "metadata": {},
   "source": [
    "#### write a python function that taskes a string as an input and returns the substring from the 3rd to the 8th character. \n",
    "#### 'Data scinence'\n",
    "#### 'Hello World I am learning Python'\n",
    "#### 'All the Best'"
   ]
  },
  {
   "cell_type": "code",
   "execution_count": null,
   "id": "7687156f-c80b-471b-82bc-92d17cea9854",
   "metadata": {},
   "outputs": [],
   "source": [
    "def substr(strings_):\n",
    "    extract_=str(strings_[3:8])\n",
    "    return extract_\n",
    "\n"
   ]
  },
  {
   "cell_type": "code",
   "execution_count": null,
   "id": "f407c9eb-1867-41ec-af4a-9703860fac1c",
   "metadata": {},
   "outputs": [],
   "source": [
    "print(substr(\"Data Science\"))\n",
    "print(substr(\"Hello World I am learning Python\"))\n",
    "print(substr(\"All the best\"))"
   ]
  },
  {
   "cell_type": "markdown",
   "id": "6fd75177-9498-45d1-985c-bd0192fb5203",
   "metadata": {},
   "source": [
    "Given the string s = \"Hello world\", what will be the result of s[1:5]"
   ]
  },
  {
   "cell_type": "code",
   "execution_count": null,
   "id": "853978bf-c96b-4a36-b79c-4db464598ef2",
   "metadata": {},
   "outputs": [],
   "source": [
    "s = str(\"Hello World\")\n",
    "print(s[1:5])\n",
    "s1 = str(\"Programming\")\n",
    "print(s1[0])\n",
    "s2 = str(\"Artificial\")\n",
    "print(s2[:-4])"
   ]
  },
  {
   "cell_type": "markdown",
   "id": "ac7df33f-1648-43a4-95c6-7d28936e35c3",
   "metadata": {},
   "source": [
    "# Strings Part2"
   ]
  },
  {
   "cell_type": "code",
   "execution_count": null,
   "id": "e2d70009-7590-4d9f-9203-12dcc223da84",
   "metadata": {},
   "outputs": [],
   "source": [
    "# Length method for counting string length"
   ]
  },
  {
   "cell_type": "code",
   "execution_count": null,
   "id": "4dc849a1-5214-4a1d-a353-0f775a16f783",
   "metadata": {},
   "outputs": [],
   "source": [
    "s=\"the i scale\"\n",
    "print(len(s))\n",
    "s1=\" \"\n",
    "print(len(s1))"
   ]
  },
  {
   "cell_type": "markdown",
   "id": "2989ba56-cd5d-4145-956f-b8aa57476b2e",
   "metadata": {},
   "source": [
    "String with special symbols"
   ]
  },
  {
   "cell_type": "code",
   "execution_count": null,
   "id": "935d5bf2-af38-45ab-9563-656f526bfdc3",
   "metadata": {},
   "outputs": [],
   "source": [
    "s = \"hello\\nworld\"\n",
    "print(s)\n",
    "print(len(s))"
   ]
  },
  {
   "cell_type": "markdown",
   "id": "723a68b7-e2db-422f-b56e-07c9edb2897e",
   "metadata": {},
   "source": [
    "s = \"hello@world\"\n",
    "print(s)\n",
    "print(len(s))"
   ]
  },
  {
   "cell_type": "code",
   "execution_count": null,
   "id": "39907644-d764-432c-969e-7629a48e8651",
   "metadata": {},
   "outputs": [],
   "source": [
    "s=\"\"\" hello\n",
    "world\"\"\"\n",
    "print(s)\n",
    "print(len(s))"
   ]
  },
  {
   "cell_type": "markdown",
   "id": "e2e0c9f8-7bee-4c24-b71c-d91cccdbfde1",
   "metadata": {},
   "source": [
    "### Python Modify strings"
   ]
  },
  {
   "cell_type": "code",
   "execution_count": null,
   "id": "ae707066-47a4-4487-a9b2-d927f55097a5",
   "metadata": {},
   "outputs": [],
   "source": [
    "s = \"This is the isCAle\"\n",
    "print(s.upper())"
   ]
  },
  {
   "cell_type": "code",
   "execution_count": null,
   "id": "0f4f6c3f-a0a9-4065-823a-2c3e45da19fd",
   "metadata": {},
   "outputs": [],
   "source": [
    "### Lower case method"
   ]
  },
  {
   "cell_type": "code",
   "execution_count": null,
   "id": "c5ba053a-1aa2-4a84-81fa-d8233d9bbb91",
   "metadata": {},
   "outputs": [],
   "source": [
    "\n",
    "a = \"My name is saman\"\n",
    "print(s.upper())\n",
    "b = \"I AM LEARNING PYTHON\"\n",
    "print(s.lower())"
   ]
  },
  {
   "cell_type": "code",
   "execution_count": null,
   "id": "955bb34d-8f8d-4dab-845b-8a35c521db34",
   "metadata": {},
   "outputs": [],
   "source": [
    "# Replace method"
   ]
  },
  {
   "cell_type": "code",
   "execution_count": null,
   "id": "1cb8a391-2b81-443e-80dd-35ed2f65e847",
   "metadata": {},
   "outputs": [],
   "source": [
    "\n",
    "text = \"hello world i am learning method\"\n",
    "rep = text.replace(\"Python\", \"data science\")\n",
    "#caps = text.upper(text[0:7])\n",
    "#print(caps)\n",
    "print(rep)\n"
   ]
  },
  {
   "cell_type": "markdown",
   "id": "87f789ff-a675-4fc3-a1c6-356d6aa766ab",
   "metadata": {},
   "source": [
    "# Finding Index position is the string\n"
   ]
  },
  {
   "cell_type": "code",
   "execution_count": null,
   "id": "6c6d7ba3-a458-4bef-979d-67db859fcecd",
   "metadata": {},
   "outputs": [],
   "source": [
    "text = \"Hello I am learning pythod\"\n",
    "print(text.index(\"learning\"))\n"
   ]
  },
  {
   "cell_type": "markdown",
   "id": "d34f57fe-bf3e-4fc3-be7a-466d19589f97",
   "metadata": {},
   "source": [
    "### Find method"
   ]
  },
  {
   "cell_type": "code",
   "execution_count": null,
   "id": "2a727075-194a-437e-b2ec-8bb0c49950b1",
   "metadata": {},
   "outputs": [],
   "source": [
    "a = \"pythond is great\"\n",
    "b = a.find(\"g\")\n",
    "print(b)"
   ]
  },
  {
   "cell_type": "markdown",
   "id": "f20b5b0f-5d96-4250-b379-fc413dac8714",
   "metadata": {},
   "source": [
    "## Practice Questions\n",
    "### Write a python program that accomplishes the following tasks:\n",
    "### 1) concatenate the strings \"Hello\" and \"World\"\n",
    "### 2) Find the length of the resulting string from the concatenation\n",
    "### 3) Extract \"World\" from the string\n",
    "### 4) Reverse the above string\n",
    "### 5) Convert the reversed string to uppercase\n",
    "### 6) replace the letter 'L' with 'X' in above string"
   ]
  },
  {
   "cell_type": "code",
   "execution_count": null,
   "id": "be0b21a1-235d-4f46-a863-1a25857a5dbc",
   "metadata": {},
   "outputs": [],
   "source": [
    "# string concatenation\n",
    "my_string = \"Hello\" +\" \"+ \"World\"\n",
    "print(my_string)\n",
    "# finding length of the resulting string\n",
    "print(\"length = \", len(my_string))\n",
    "# extracting \"World\" from the string\n",
    "ext = my_string[6:12]\n",
    "print(\"extracting word \", ext)\n",
    "# Reversing\n",
    "rev = ext[::-1]\n",
    "print(\"Reversing the world\", rev)\n",
    "# coverting into uppercase\n",
    "upper_case = rev.upper() \n",
    "print(\"Changing in upper case \", upper_case)\n",
    "# replacing \"l\" with \"X\"\n",
    "rep = upper_case.replace(\"L\", \"X\")\n",
    "print(\"replacing L with X\", rep)\n",
    "\n",
    "\n",
    "\n",
    "\n",
    "\n",
    "\n"
   ]
  },
  {
   "cell_type": "markdown",
   "id": "a7cdb029-8e79-4d8a-a985-c316ba8992bc",
   "metadata": {},
   "source": [
    " Practice Questions 1:\n",
    " print numbers from 1 to 100"
   ]
  },
  {
   "cell_type": "code",
   "execution_count": null,
   "id": "199e7dbc-e02c-4f00-a579-ea80406d151e",
   "metadata": {},
   "outputs": [],
   "source": [
    "numbers = 1\n",
    "while numbers <=100:\n",
    "    print(numbers)\n",
    "    numbers +=1"
   ]
  },
  {
   "cell_type": "markdown",
   "id": "fe0738f7-eb80-4c8b-ab96-cd8e6df77c22",
   "metadata": {},
   "source": [
    "2: print numbers from 100 to 1"
   ]
  },
  {
   "cell_type": "code",
   "execution_count": null,
   "id": "75893d1a-8380-4122-8ff8-4f2bd5afdffe",
   "metadata": {},
   "outputs": [],
   "source": [
    "numbs = 100\n",
    "while  numbs >=1:\n",
    "    print(numbs) \n",
    "    numbs -= 1"
   ]
  },
  {
   "cell_type": "code",
   "execution_count": null,
   "id": "4486e860-f94a-4e6d-a279-bfa4ca1716b6",
   "metadata": {},
   "outputs": [],
   "source": [
    "i = 100\n",
    "while  i >=1:\n",
    "    print  (i)\n",
    "    i = i - 1  "
   ]
  },
  {
   "cell_type": "markdown",
   "id": "7113ed68-c1fd-4a61-b6ca-d8edf429aaaa",
   "metadata": {},
   "source": [
    "3  : print the multiplication table of a number n"
   ]
  },
  {
   "cell_type": "code",
   "execution_count": null,
   "id": "61963528-51d9-4a81-8f90-a1dfcebe6319",
   "metadata": {},
   "outputs": [],
   "source": [
    "n = int(input(\"Enter a number\"))\n",
    "i = 1\n",
    "while i <=10:\n",
    "    print(n,\"X\",i,\"=\",n*i)\n",
    "    i+=1\n"
   ]
  },
  {
   "cell_type": "markdown",
   "id": "ee19470c-f274-42c9-a4aa-0fa414737636",
   "metadata": {},
   "source": [
    "4: print the elementa of the following liat using a while loop \n",
    "[1,4,9,16,25,36,49,64,81,100]"
   ]
  },
  {
   "cell_type": "code",
   "execution_count": null,
   "id": "04925233-3115-48ec-be1f-1e692aafbe27",
   "metadata": {},
   "outputs": [],
   "source": [
    "numbs = [1,4,9,16,25,36,49,64,81,100]\n",
    "i = 0\n",
    "while i<=len(numbs)-1:\n",
    "    print(numbs[i])\n",
    "    i +=1"
   ]
  },
  {
   "cell_type": "markdown",
   "id": "fdeddac0-d2eb-4a0b-aa68-2b17e6e07004",
   "metadata": {},
   "source": [
    "5: search for a number x in this tuple using loop:"
   ]
  },
  {
   "cell_type": "code",
   "execution_count": null,
   "id": "d71cb2d5-9e2b-401f-9533-71e2fcfab4d7",
   "metadata": {},
   "outputs": [],
   "source": [
    "data = (1,4,9,16,25,36,49,64,81,100)\n",
    "x = 36\n",
    "i = 0\n",
    "while i <= len(data)-1:\n",
    "    if (data[i]== x):\n",
    "        print(\"found\",i)\n",
    "        i +=1\n",
    "    \n"
   ]
  },
  {
   "cell_type": "code",
   "execution_count": null,
   "id": "cdf17259-7cd2-425f-91cf-50734db38cdf",
   "metadata": {},
   "outputs": [],
   "source": [
    "data = (1,4,9,16,25,36,49,64,81,100)\n",
    "x = 36\n",
    "i = 0\n",
    "while i <= len(data)-1:\n",
    "    if (data[i]== x):\n",
    "        print(\"found\",i)\n",
    "        i +=1"
   ]
  },
  {
   "cell_type": "code",
   "execution_count": null,
   "id": "7e59d9ed-2e2c-4516-a2c8-1ca695d7dd6f",
   "metadata": {},
   "outputs": [],
   "source": []
  },
  {
   "cell_type": "code",
   "execution_count": null,
   "id": "895f957c-aead-4cb9-85d2-c9a6d5ee4d8e",
   "metadata": {},
   "outputs": [],
   "source": []
  },
  {
   "cell_type": "code",
   "execution_count": null,
   "id": "eeeae9ac-5407-4d85-baed-5a867f5a1e11",
   "metadata": {},
   "outputs": [],
   "source": []
  }
 ],
 "metadata": {
  "kernelspec": {
   "display_name": "Python 3 (ipykernel)",
   "language": "python",
   "name": "python3"
  },
  "language_info": {
   "codemirror_mode": {
    "name": "ipython",
    "version": 3
   },
   "file_extension": ".py",
   "mimetype": "text/x-python",
   "name": "python",
   "nbconvert_exporter": "python",
   "pygments_lexer": "ipython3",
   "version": "3.12.7"
  }
 },
 "nbformat": 4,
 "nbformat_minor": 5
}
